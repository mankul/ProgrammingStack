{
 "cells": [
  {
   "cell_type": "code",
   "execution_count": 27,
   "id": "da69a844",
   "metadata": {},
   "outputs": [
    {
     "name": "stdout",
     "output_type": "stream",
     "text": [
      "   a  b  c  d  e\n",
      "0  1  2  3  4  1\n",
      "1  2  3  4  5  2\n",
      "2  3  4  5  6  3\n",
      "3  4  5  6  7  4\n"
     ]
    }
   ],
   "source": [
    "import pandas as pd\n",
    "d = {'a':[1,2,3,4], 'b':[2,3,4,5], 'c':[3,4,5,6],'d':[4,5,6,7], 'e':[1,2,3,4]}\n",
    "df = pd.DataFrame(d)\n",
    "print(df)"
   ]
  },
  {
   "cell_type": "code",
   "execution_count": 28,
   "id": "04181e33",
   "metadata": {},
   "outputs": [
    {
     "name": "stdout",
     "output_type": "stream",
     "text": [
      "    a   b   c   d   e\n",
      "0  11  12  13  14  11\n",
      "1  12  13  14  15  12\n",
      "2  13  14  15  16  13\n",
      "3  14  15  16  17  14\n"
     ]
    }
   ],
   "source": [
    "def function_apply(row):\n",
    "#     print(\"row\", row)\n",
    "    step = 10\n",
    "    for i in range(len(row)):\n",
    "        row[i] += step\n",
    "    return row\n",
    "\n",
    "df.apply(lambda row: function_apply(row), axis = 1)\n",
    "print(df)"
   ]
  },
  {
   "cell_type": "code",
   "execution_count": 29,
   "id": "a31a53a9",
   "metadata": {},
   "outputs": [
    {
     "name": "stdout",
     "output_type": "stream",
     "text": [
      "    a   b   c   d   e\n",
      "0  11   0  13   0  11\n",
      "1   0  13   0  15   0\n",
      "2  13   0  15   0  13\n",
      "3   0  15   0  17   0\n"
     ]
    }
   ],
   "source": [
    "def select_even(row):\n",
    "    for i in range(len(row)):\n",
    "        if row[i]%2 == 0:\n",
    "            row[i] = 0\n",
    "    return row\n",
    "\n",
    "df.apply(lambda row: select_even(row), axis = 1)\n",
    "print(df)"
   ]
  },
  {
   "cell_type": "code",
   "execution_count": 31,
   "id": "92129133",
   "metadata": {},
   "outputs": [
    {
     "name": "stdout",
     "output_type": "stream",
     "text": [
      "    a   b   c   d   e newFrame\n",
      "0  11   0  13   0  11      yes\n",
      "1   0  13   0  15   0       no\n",
      "2  13   0  15   0  13      yes\n",
      "3   0  15   0  17   0       no\n"
     ]
    }
   ],
   "source": [
    "def select_odd_count_zero(row):\n",
    "    counter = 0\n",
    "    for item in row:\n",
    "        if item == 0:\n",
    "            counter += 1\n",
    "    if counter % 2 == 0:\n",
    "        return \"yes\"\n",
    "    else:\n",
    "        return \"no\"\n",
    "\n",
    "df[\"newFrame\"] = df.apply(lambda row: select_odd_count_zero(row), axis = 1)\n",
    "print(df)"
   ]
  },
  {
   "cell_type": "code",
   "execution_count": null,
   "id": "b5d13ea8",
   "metadata": {},
   "outputs": [],
   "source": []
  }
 ],
 "metadata": {
  "kernelspec": {
   "display_name": "Python 3 (ipykernel)",
   "language": "python",
   "name": "python3"
  },
  "language_info": {
   "codemirror_mode": {
    "name": "ipython",
    "version": 3
   },
   "file_extension": ".py",
   "mimetype": "text/x-python",
   "name": "python",
   "nbconvert_exporter": "python",
   "pygments_lexer": "ipython3",
   "version": "3.10.8"
  }
 },
 "nbformat": 4,
 "nbformat_minor": 5
}
